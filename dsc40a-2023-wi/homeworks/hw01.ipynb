{
 "cells": [
  {
   "attachments": {},
   "cell_type": "markdown",
   "metadata": {},
   "source": [
    "Problem 4"
   ]
  },
  {
   "cell_type": "code",
   "execution_count": 7,
   "metadata": {},
   "outputs": [],
   "source": [
    "def scaled_abs_error(a : float, b : float, h : float, data : list):\n",
    "    # define the function\n",
    "    total_error = 0\n",
    "    for y in data:\n",
    "        if y <= h:\n",
    "            error = a*(h - y)\n",
    "            total_error += error\n",
    "        else:\n",
    "            error = b*(y - h)\n",
    "            total_error += error\n",
    "    # return the mean error\n",
    "    return total_error / len(data)"
   ]
  },
  {
   "attachments": {},
   "cell_type": "markdown",
   "metadata": {},
   "source": [
    "Part a)"
   ]
  },
  {
   "cell_type": "code",
   "execution_count": 8,
   "metadata": {},
   "outputs": [
    {
     "name": "stdout",
     "output_type": "stream",
     "text": [
      "[[2, 12.0], [3, 11.222222222222221], [4, 10.666666666666666], [5, 10.11111111111111], [6, 9.555555555555555], [7, 9.0], [8, 8.666666666666666], [9, 8.333333333333334], [10, 8.0], [11, 7.666666666666667], [12, 7.555555555555555], [13, 7.444444444444445], [14, 7.333333333333333], [15, 7.222222222222222], [16, 7.333333333333333], [17, 7.444444444444445], [18, 7.555555555555555], [19, 7.888888888888889], [20, 8.444444444444445], [21, 9.0], [22, 9.555555555555555], [23, 10.333333333333334], [24, 11.11111111111111], [25, 11.88888888888889], [26, 12.666666666666666], [27, 13.444444444444445], [28, 14.222222222222221], [29, 15.0]]\n"
     ]
    }
   ],
   "source": [
    "import numpy as np\n",
    "import pandas as pd\n",
    "import matplotlib.pyplot as plt\n",
    "\n",
    "list_of_h = np.arange(2, 30)\n",
    "data = [2, 3, 7, 11, 15, 18, 19, 22, 29]\n",
    "msae = list()\n",
    "\n",
    "\n",
    "for h in list_of_h:\n",
    "    mean_scaled_abs_err = (scaled_abs_error(1, 1, h, data))\n",
    "    msae.append([h, mean_scaled_abs_err])\n",
    "\n",
    "print(msae)\n",
    "\n"
   ]
  },
  {
   "attachments": {},
   "cell_type": "markdown",
   "metadata": {},
   "source": [
    "Part b)"
   ]
  },
  {
   "cell_type": "code",
   "execution_count": 9,
   "metadata": {},
   "outputs": [
    {
     "name": "stdout",
     "output_type": "stream",
     "text": [
      "[[2, 36.0], [3, 33.44444444444444], [4, 31.333333333333332], [5, 29.22222222222222], [6, 27.11111111111111], [7, 25.0], [8, 23.333333333333332], [9, 21.666666666666668], [10, 20.0], [11, 18.333333333333332], [12, 17.11111111111111], [13, 15.88888888888889], [14, 14.666666666666666], [15, 13.444444444444445], [16, 12.666666666666666], [17, 11.88888888888889], [18, 11.11111111111111], [19, 10.777777777777779], [20, 10.88888888888889], [21, 11.0], [22, 11.11111111111111], [23, 11.666666666666666], [24, 12.222222222222221], [25, 12.777777777777779], [26, 13.333333333333334], [27, 13.88888888888889], [28, 14.444444444444445], [29, 15.0]]\n"
     ]
    }
   ],
   "source": [
    "msae = list()\n",
    "\n",
    "for h in list_of_h:\n",
    "    mean_scaled_abs_err = (scaled_abs_error(1, 3, h, data))\n",
    "    msae.append([h, mean_scaled_abs_err])\n",
    "\n",
    "print(msae)"
   ]
  },
  {
   "attachments": {},
   "cell_type": "markdown",
   "metadata": {},
   "source": [
    "Part c)"
   ]
  },
  {
   "cell_type": "code",
   "execution_count": 10,
   "metadata": {},
   "outputs": [
    {
     "name": "stdout",
     "output_type": "stream",
     "text": [
      "[[2, 12.0], [3, 11.444444444444445], [4, 11.333333333333334], [5, 11.222222222222221], [6, 11.11111111111111], [7, 11.0], [8, 11.333333333333334], [9, 11.666666666666666], [10, 12.0], [11, 12.333333333333334], [12, 13.11111111111111], [13, 13.88888888888889], [14, 14.666666666666666], [15, 15.444444444444445], [16, 16.666666666666668], [17, 17.88888888888889], [18, 19.11111111111111], [19, 20.77777777777778], [20, 22.88888888888889], [21, 25.0], [22, 27.11111111111111], [23, 29.666666666666668], [24, 32.22222222222222], [25, 34.77777777777778], [26, 37.333333333333336], [27, 39.888888888888886], [28, 42.44444444444444], [29, 45.0]]\n"
     ]
    }
   ],
   "source": [
    "msae = list()\n",
    "\n",
    "for h in list_of_h:\n",
    "    mean_scaled_abs_err = (scaled_abs_error(3, 1, h, data))\n",
    "    msae.append([h, mean_scaled_abs_err])\n",
    "\n",
    "print(msae)"
   ]
  },
  {
   "attachments": {},
   "cell_type": "markdown",
   "metadata": {},
   "source": [
    "As we can see, the MSAE will always be the median, no matter what scalar / Linear Transformations are done to the dataset"
   ]
  }
 ],
 "metadata": {
  "kernelspec": {
   "display_name": "Python 3",
   "language": "python",
   "name": "python3"
  },
  "language_info": {
   "codemirror_mode": {
    "name": "ipython",
    "version": 3
   },
   "file_extension": ".py",
   "mimetype": "text/x-python",
   "name": "python",
   "nbconvert_exporter": "python",
   "pygments_lexer": "ipython3",
   "version": "3.9.4"
  },
  "orig_nbformat": 4,
  "vscode": {
   "interpreter": {
    "hash": "d0c5cb6bf509a02cef9c56bf2eb97e86fe98bb4322bfa6beb984e4c134a4af93"
   }
  }
 },
 "nbformat": 4,
 "nbformat_minor": 2
}
