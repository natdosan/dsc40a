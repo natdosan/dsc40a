{
 "cells": [
  {
   "attachments": {},
   "cell_type": "markdown",
   "metadata": {},
   "source": [
    "Problem 4"
   ]
  },
  {
   "cell_type": "code",
   "execution_count": 1,
   "metadata": {},
   "outputs": [],
   "source": [
    "def scaled_abs_error(a : float, b : float, h : float, data : list):\n",
    "    # define the function\n",
    "    total_error = 0\n",
    "    for y in data:\n",
    "        if y <= h:\n",
    "            error = h - y\n",
    "            total_error += error\n",
    "        else:\n",
    "            error = y - h\n",
    "            total_error += error\n",
    "    \n",
    "    return total_error / len(data)"
   ]
  },
  {
   "cell_type": "code",
   "execution_count": 10,
   "metadata": {},
   "outputs": [
    {
     "name": "stdout",
     "output_type": "stream",
     "text": [
      "[12.0, 11.222222222222221, 10.666666666666666, 10.11111111111111, 9.555555555555555, 9.0, 8.666666666666666, 8.333333333333334, 8.0, 7.666666666666667, 7.555555555555555, 7.444444444444445, 7.333333333333333, 7.222222222222222, 7.333333333333333, 7.444444444444445, 7.555555555555555, 7.888888888888889, 8.444444444444445, 9.0, 9.555555555555555, 10.333333333333334, 11.11111111111111, 11.88888888888889, 12.666666666666666, 13.444444444444445, 14.222222222222221, 15.0] 7.222222222222222\n"
     ]
    }
   ],
   "source": [
    "import numpy as np\n",
    "import pandas as pd\n",
    "import matplotlib.pyplot as plt\n",
    "\n",
    "list_of_h = np.arange(2, 30)\n",
    "data = [2, 3, 7, 11, 15, 18, 19, 22, 29]\n",
    "msae = list()\n",
    "\n",
    "\n",
    "for h in list_of_h:\n",
    "    mean_scaled_abs_err = (scaled_abs_error(1, 1, h, data))\n",
    "    msae.append(mean_scaled_abs_err)\n",
    "\n",
    "print(msae, min(msae))\n",
    "\n"
   ]
  },
  {
   "cell_type": "code",
   "execution_count": null,
   "metadata": {},
   "outputs": [],
   "source": []
  }
 ],
 "metadata": {
  "kernelspec": {
   "display_name": "Python 3",
   "language": "python",
   "name": "python3"
  },
  "language_info": {
   "codemirror_mode": {
    "name": "ipython",
    "version": 3
   },
   "file_extension": ".py",
   "mimetype": "text/x-python",
   "name": "python",
   "nbconvert_exporter": "python",
   "pygments_lexer": "ipython3",
   "version": "3.9.4"
  },
  "orig_nbformat": 4,
  "vscode": {
   "interpreter": {
    "hash": "d0c5cb6bf509a02cef9c56bf2eb97e86fe98bb4322bfa6beb984e4c134a4af93"
   }
  }
 },
 "nbformat": 4,
 "nbformat_minor": 2
}
