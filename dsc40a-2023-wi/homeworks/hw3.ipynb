{
 "cells": [
  {
   "cell_type": "markdown",
   "id": "28dcfebc",
   "metadata": {},
   "source": [
    " Fix a set of true parameters α and β and not look at them."
   ]
  },
  {
   "cell_type": "code",
   "execution_count": 1,
   "id": "4f749c72",
   "metadata": {},
   "outputs": [],
   "source": [
    "import numpy as np\n",
    "import matplotlib.pyplot as plt\n",
    "\n",
    "alpha = np.random.uniform(1.0,5.0)\n",
    "beta = np.random.uniform(0.0,10.0)\n",
    "theta = np.random.uniform(1.0,5.0)\n",
    "phi = np.random.uniform(0.0,10.0)"
   ]
  },
  {
   "cell_type": "markdown",
   "id": "cfdb181a",
   "metadata": {},
   "source": [
    "Now we generate n data points according to the relationship laid out in Equation (1). For convenience, let\n",
    "the x_i’s be generated uniformly at random over the interval [−10, 10].\n"
   ]
  },
  {
   "cell_type": "code",
   "execution_count": 2,
   "id": "4b56ba7b",
   "metadata": {},
   "outputs": [],
   "source": [
    "def grad_func(a, b, x, y):\n",
    "    n = np.size(x) # number of data points in the data set\n",
    "    grad_a = 0.0\n",
    "    grad_b = 0.0\n",
    "    for i in range(n): # also the number of summation steps\n",
    "        grad_a = grad_a - 2.0*x[i]*(y[i]-(a*x[i]+b)) # add to the running sum\n",
    "        grad_b = grad_b - 2.0*(y[i]-(a*x[i]+b))\n",
    "    grad_a = grad_a/n\n",
    "    grad_b = grad_b/n\n",
    "    return grad_a, grad_b"
   ]
  },
  {
   "cell_type": "markdown",
   "id": "1c82d900",
   "metadata": {},
   "source": [
    "Next, we set the initial estimates as a = b = 100 and the step size to 0.02 and use gradient descent to minimize\n",
    "the empirical risk. We choose to stop the algorithm when the total of both absolute partial derivatives is\n",
    "small enough, which we’ll say is less than 0.00001. Therefore, we implement gradient descent as follows:"
   ]
  },
  {
   "cell_type": "markdown",
   "id": "88bc9084",
   "metadata": {},
   "source": [
    "After the convergence of the gradient descent algorithm, we have our estimates a, b for the true line’s\n",
    "parameters α, β. (You can check for yourself that you get the same slope and intercept using gradient\n",
    "descent that you would get from the formulas derived in class.)\n",
    "We can measure how close these estimated parameters are to the true ones using, say, the quadratic distance:\n",
    "err= (a − α)^2 + (b − β)^2."
   ]
  },
  {
   "cell_type": "code",
   "execution_count": 3,
   "id": "15325376",
   "metadata": {},
   "outputs": [],
   "source": [
    "def data_gen(theta, phi, n):\n",
    "    x = np.random.uniform(-10.0,10.0,n)\n",
    "    y = np.zeros(n)\n",
    "    for i in range(n):\n",
    "        y[i] = theta*x[i]+phi+np.random.uniform(-1.0,1.0)\n",
    "    return x, y\n",
    "\n",
    "def experiment_func(theta, phi, n):\n",
    "    accuracy = np.zeros(8)\n",
    "    #n = 1\n",
    "    for k in range(8):\n",
    "        x, y = data_gen(theta, phi, n+1)\n",
    "        a = 100.0 # initial estimate for a is 100.0\n",
    "        b = 100.0 # initial estimate for b is 100.0\n",
    "        grad_a = 10.0 # initialize grad_a\n",
    "        grad_b = 10.0 # initialize grad_b\n",
    "        while abs(grad_a) + abs(grad_b) > 0.00001: # while not converged\n",
    "            grad_a, grad_b = grad_func(a, b, x, y) # compute the gradient using grad_funca = \n",
    "            a = a - grad_a*0.005 # step size = 0.005\n",
    "            b = b - grad_b*0.005\n",
    "        accuracy[k] = (a-theta)**2 + (b-phi)**2\n",
    "    \n",
    "        #plt.figure() # turn on for Question (c)\n",
    "        #plt.scatter(x,y, color = 'b')\n",
    "        #plt.plot([-10.0,10.0], [a*(-10.0)+b,a*10.0+b], color='r')\n",
    "        #plt.plot([-10.0,10.0], [theta*(-10.0)+phi,theta*10.0+phi], color='k')\n",
    "        #plt.savefig('lin_reg_scatter ' + str(n) + '.pdf' )\n",
    "        n = n*2\n",
    "    return accuracy"
   ]
  },
  {
   "cell_type": "code",
   "execution_count": 6,
   "id": "52d56e21",
   "metadata": {},
   "outputs": [
    {
     "data": {
      "image/png": "[encoded data removed]",
      "text/plain": [
       "<Figure size 432x288 with 1 Axes>"
      ]
     },
     "metadata": {
      "needs_background": "light"
     },
     "output_type": "display_data"
    }
   ],
   "source": [
    "list_of_sizes = [2, 3, 5, 9, 17, 33, 65, 129]\n",
    "sample_sizes = np.array([])\n",
    "mean_errors = np.array([])\n",
    "\n",
    "for n in list_of_sizes:\n",
    "    accuracies = np.array([])\n",
    "    for i in range(20):\n",
    "        accuracy = np.zeros(8)\n",
    "        accuracy = accuracy + experiment_func(theta, phi, n)\n",
    "        accuracies = np.append(accuracies, accuracy)\n",
    "        #accuracy = accuracy/20.0\n",
    "    sample_sizes = np.append(sample_sizes, n)\n",
    "    mean_errors = np.append(mean_errors, np.mean(accuracies))\n",
    "    \n",
    "plt.plot(sample_sizes, 1/mean_errors)\n",
    "plt.show()"
   ]
  },
  {
   "cell_type": "code",
   "execution_count": null,
   "id": "6e38e2ca",
   "metadata": {},
   "outputs": [],
   "source": []
  }
 ],
 "metadata": {
  "kernelspec": {
   "display_name": "Python 3 (ipykernel)",
   "language": "python",
   "name": "python3"
  },
  "language_info": {
   "codemirror_mode": {
    "name": "ipython",
    "version": 3
   },
   "file_extension": ".py",
   "mimetype": "text/x-python",
   "name": "python",
   "nbconvert_exporter": "python",
   "pygments_lexer": "ipython3",
   "version": "3.9.5"
  }
 },
 "nbformat": 4,
 "nbformat_minor": 5
}
